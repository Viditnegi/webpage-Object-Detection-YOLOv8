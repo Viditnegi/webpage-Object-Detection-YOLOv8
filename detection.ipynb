{
 "cells": [
  {
   "cell_type": "code",
   "execution_count": 11,
   "outputs": [
    {
     "name": "stdout",
     "output_type": "stream",
     "text": [
      "Requirement already satisfied: matplotlib in c:\\users\\vidit\\.conda\\envs\\webpage_detection_venv\\lib\\site-packages (3.8.2)\n",
      "Requirement already satisfied: contourpy>=1.0.1 in c:\\users\\vidit\\.conda\\envs\\webpage_detection_venv\\lib\\site-packages (from matplotlib) (1.2.0)\n",
      "Requirement already satisfied: cycler>=0.10 in c:\\users\\vidit\\.conda\\envs\\webpage_detection_venv\\lib\\site-packages (from matplotlib) (0.12.1)\n",
      "Requirement already satisfied: fonttools>=4.22.0 in c:\\users\\vidit\\.conda\\envs\\webpage_detection_venv\\lib\\site-packages (from matplotlib) (4.47.0)\n",
      "Requirement already satisfied: kiwisolver>=1.3.1 in c:\\users\\vidit\\.conda\\envs\\webpage_detection_venv\\lib\\site-packages (from matplotlib) (1.4.5)\n",
      "Requirement already satisfied: numpy<2,>=1.21 in c:\\users\\vidit\\.conda\\envs\\webpage_detection_venv\\lib\\site-packages (from matplotlib) (1.26.3)\n",
      "Requirement already satisfied: packaging>=20.0 in c:\\users\\vidit\\.conda\\envs\\webpage_detection_venv\\lib\\site-packages (from matplotlib) (23.1)\n",
      "Requirement already satisfied: pillow>=8 in c:\\users\\vidit\\.conda\\envs\\webpage_detection_venv\\lib\\site-packages (from matplotlib) (10.2.0)\n",
      "Requirement already satisfied: pyparsing>=2.3.1 in c:\\users\\vidit\\.conda\\envs\\webpage_detection_venv\\lib\\site-packages (from matplotlib) (3.1.1)\n",
      "Requirement already satisfied: python-dateutil>=2.7 in c:\\users\\vidit\\.conda\\envs\\webpage_detection_venv\\lib\\site-packages (from matplotlib) (2.8.2)\n",
      "Requirement already satisfied: six>=1.5 in c:\\users\\vidit\\.conda\\envs\\webpage_detection_venv\\lib\\site-packages (from python-dateutil>=2.7->matplotlib) (1.16.0)\n"
     ]
    }
   ],
   "source": [
    "!pip install matplotlib\n"
   ],
   "metadata": {
    "collapsed": false,
    "ExecuteTime": {
     "end_time": "2024-01-03T16:38:52.394433100Z",
     "start_time": "2024-01-03T16:38:50.136419Z"
    }
   },
   "id": "40337dc1aadc8c37"
  },
  {
   "cell_type": "code",
   "execution_count": 92,
   "id": "initial_id",
   "metadata": {
    "collapsed": true,
    "ExecuteTime": {
     "end_time": "2024-01-03T17:34:12.527485Z",
     "start_time": "2024-01-03T17:34:12.514808800Z"
    }
   },
   "outputs": [],
   "source": [
    "# Importing dependencies\n",
    "from ultralytics import YOLO       #import the YOLO class\n",
    "import cv2                   \n",
    "from ultralytics.utils.plotting import Annotator\n",
    "import matplotlib.pyplot as plt"
   ]
  },
  {
   "cell_type": "code",
   "execution_count": null,
   "outputs": [],
   "source": [
    "model = YOLO('yolov8n.pt')      # load the yolov8 nano model\n",
    "\n",
    "results = model.train(data='config.yaml', epochs=500 )   # train the model for 500 epochs\n",
    "\n",
    "# The config.yaml file contains the labels names and the image/label destinations.\n"
   ],
   "metadata": {
    "collapsed": false
   },
   "id": "5b9fec2978e24c9"
  },
  {
   "cell_type": "markdown",
   "source": [
    "# Training can also be done in the terminal directly using:\n",
    "<h3>'yolo detect train data=config.yaml model='yolov8n.pt' epochs=500'</h3>\n"
   ],
   "metadata": {
    "collapsed": false
   },
   "id": "f9ac00496aceded"
  },
  {
   "cell_type": "markdown",
   "source": [
    "<h2>Now loading the model and testing it on unseen images"
   ],
   "metadata": {
    "collapsed": false
   },
   "id": "2efad9090a216f3"
  },
  {
   "cell_type": "code",
   "execution_count": 107,
   "outputs": [
    {
     "name": "stdout",
     "output_type": "stream",
     "text": [
      "0: 640x320 1 logo, 8 buttons, 1 image, 1 nav_dots, 52.0ms\n",
      "Speed: 3.0ms preprocess, 52.0ms inference, 1.0ms postprocess per image at shape (1, 3, 640, 320)\n",
      "0: 640x320 1 logo, 8 buttons, 4 texts, 3 inputfields, 74.0ms\n",
      "Speed: 3.0ms preprocess, 74.0ms inference, 1.0ms postprocess per image at shape (1, 3, 640, 320)\n",
      "0: 640x320 2 texts, 1 image, 60.0ms\n",
      "Speed: 3.0ms preprocess, 60.0ms inference, 1.0ms postprocess per image at shape (1, 3, 640, 320)\n",
      "0: 640x320 6 buttons, 8 texts, 2 inputfields, 59.0ms\n",
      "Speed: 3.0ms preprocess, 59.0ms inference, 1.0ms postprocess per image at shape (1, 3, 640, 320)\n",
      "0: 640x320 1 text, 60.0ms\n",
      "Speed: 2.0ms preprocess, 60.0ms inference, 0.0ms postprocess per image at shape (1, 3, 640, 320)\n"
     ]
    }
   ],
   "source": [
    "model = YOLO(\"runs/detect/train2/weights/best.pt\")    #\n",
    "\n",
    "image_files = [\"data/images/val/Screenshot 2024-01-02 215408.png\",     # Load 5 unseen images\n",
    "               'data/images/val/Screenshot 2024-01-02 215535.png',\n",
    "               'data/images/val/Screenshot 2024-01-02 215816.png',\n",
    "               'data/images/val/Screenshot 2024-01-02 220344.png',\n",
    "               'data/images/val/Screenshot 2024-01-02 220717.png']\n",
    "\n",
    "for i, image_file in enumerate(image_files):              # Loop over the images\n",
    "    img = cv2.imread(image_file)            # Read the image\n",
    "    img = cv2.resize(img, (292,628))        # Resizing the height and width \n",
    "    \n",
    "    results = model(img)            # Passing it in the model to predict\n",
    "\n",
    "    for r in results:\n",
    "        boxes = r.boxes         # store the labels and coordinates of the bounding boxes\n",
    "        for box in boxes:\n",
    "            b = box.xyxy[0]   # coordinates\n",
    "            c = box.cls       # labels  (indices\n",
    "            label = model.names[int(c)]     # convert the indices to labels\n",
    "            \n",
    "            cv2.rectangle(img, (int(b[0]), int(b[1])), (int(b[2]), int(b[3])), (200, 10, 90), 2)   # Draw the bounding box on the image\n",
    "        \n",
    "            cv2.putText(img, label, (int(b[0]), int(b[1]-4)), cv2.FONT_HERSHEY_SIMPLEX, 0.5, (180, 100, 90), 2)   # label the bounding box\n",
    "\n",
    "    cv2.imshow('YOLO V8 Detection ' + str(i), img)      # Opens the image in a window\n",
    "\n",
    "cv2.waitKey(0)\n",
    "cv2.destroyAllWindows()\n"
   ],
   "metadata": {
    "collapsed": false,
    "ExecuteTime": {
     "end_time": "2024-01-03T19:33:16.825777200Z",
     "start_time": "2024-01-03T19:32:39.696633Z"
    }
   },
   "id": "2a9ac46668166227"
  },
  {
   "cell_type": "code",
   "execution_count": null,
   "outputs": [],
   "source": [],
   "metadata": {
    "collapsed": false
   },
   "id": "e8590696a9af4e3f"
  }
 ],
 "metadata": {
  "kernelspec": {
   "name": "webpage_detection_kernel",
   "language": "python",
   "display_name": "webpage_detection_kernel"
  },
  "language_info": {
   "codemirror_mode": {
    "name": "ipython",
    "version": 2
   },
   "file_extension": ".py",
   "mimetype": "text/x-python",
   "name": "python",
   "nbconvert_exporter": "python",
   "pygments_lexer": "ipython2",
   "version": "2.7.6"
  }
 },
 "nbformat": 4,
 "nbformat_minor": 5
}
